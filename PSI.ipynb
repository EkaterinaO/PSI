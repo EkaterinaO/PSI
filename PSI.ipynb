{
 "cells": [
  {
   "cell_type": "code",
   "execution_count": 2,
   "metadata": {},
   "outputs": [],
   "source": [
    "import matplotlib.pyplot as plt\n",
    "import pandas as pd\n",
    "%matplotlib inline\n",
    "import matplotlib.pyplot as plt\n",
    "import seaborn as sns\n",
    "color = sns.color_palette()\n",
    "sns.set_style('darkgrid')\n",
    "\n",
    "from math import log\n",
    "from IPython.display import Markdown, display\n",
    "def printmd(string,color = None):\n",
    "    colorstr= \"<span style = 'color:{}'>{}</span>\".format(color,string)\n",
    "    display(Markdown(colorstr))"
   ]
  },
  {
   "cell_type": "code",
   "execution_count": 3,
   "metadata": {},
   "outputs": [],
   "source": [
    "# helps to reduce amount of memory required for pandas dataframe \n",
    "# by downcasting some types \n",
    "# but mainly because we replace strings by categorical variables and they are stored better\n",
    "def memory_optimization(data, cat_cols):\n",
    "    converted_cat = [0]*len(cat_cols)\n",
    "    \n",
    "    #float64 -> float32\n",
    "    data_float = data.select_dtypes(include=['float'])\n",
    "    converted_float = data_float.apply(pd.to_numeric, downcast='float')\n",
    "    data[converted_float.columns] = converted_float\n",
    "    \n",
    "    #int64 -> int8 only (0,1) values\n",
    "    data_int = data.select_dtypes(include=['int64'])\n",
    "    converted_int = data_int.apply(pd.to_numeric, downcast='integer')\n",
    "    data[converted_int.columns] = converted_int\n",
    "    \n",
    "    #array of strings -> categorical\n",
    "    for _ in range(len(cat_cols)):\n",
    "        converted_cat[_] = data[cat_cols[_]].astype('category')\n",
    "        data[cat_cols[_]] = converted_cat[_]"
   ]
  },
  {
   "cell_type": "markdown",
   "metadata": {},
   "source": [
    "Data is supposed to be in csv files. The main idea is to load several slices of data.\n",
    "For example you have age and sex as your attributes and you want to check if the distribution changed or not. \n",
    "Last check was, for example two months ago, so you know the distribution on 01.01., but now is 01.03, and you need to understand whether it has changed or not.  \n",
    "You loading all the data for the 01.01. and for the 01.03, and putting target 0 for the first slice and 1 for the second. You can work with several slices, if you need. If there is some movement in you data, you can investigate the pattern and understand if something goes wrong.\n"
   ]
  },
  {
   "cell_type": "code",
   "execution_count": 7,
   "metadata": {
    "collapsed": true
   },
   "outputs": [],
   "source": [
    "# Information value calculation \n",
    "def IV(data, n_good, n_bad, quant, one, zero):\n",
    "    IV = 0\n",
    "    try:\n",
    "        distr_good = len(data[data.target_date == one])/n_good\n",
    "        distr_bad = len(data[data.target_date == zero])/n_bad\n",
    "        IV = (distr_good - distr_bad)*log(distr_good/distr_bad)\n",
    "        print(\"quant = \", quant, \"IV = \", IV)\n",
    "        \n",
    "    except:\n",
    "        #printmd(\"Не удалось посчитать IV:\\n\")\n",
    "        #print(\"quant = \", quant, \"number of '1' = \", len(data[data.target_date == one]), \"number of '0' = \", len(data[data.target_date == zero]))\n",
    "        if (len(data[data.target_date == one]) != 0 or len(data[data.target_date == zero]) != 0):\n",
    "            printmd(\"**problem**\",color=\"red\")\n",
    "            print(\"quant = \", quant, \"number of '1' = \", len(data[data.target_date == one]), \"number of '0' = \", len(data[data.target_date == zero]))\n",
    "    return IV\n",
    "\n",
    "# Working only without NA values \n",
    "def psi_calc(data, label, quant,n_good,n_bad,one,zero):\n",
    "    levels = data[label].quantile(quant)\n",
    "    print(levels)\n",
    "    PSI = 0\n",
    "    targs = data[(data[label] <= levels[quant[0]])]\n",
    "    PSI = IV(targs,n_good,n_bad,quant[0],one, zero)\n",
    "    for _ in range(1, len(levels)):\n",
    "        targs = data[(data[label] <= levels[quant[_]]) & (data[label] > levels[quant[_ - 1]]) ]\n",
    "        PSI += IV(targs,n_good,n_bad,quant[_],one, zero)\n",
    "    return PSI\n",
    "# for categorical variables \n",
    "def psi_calc_cat(data, label,n_good,n_bad,one, zero):\n",
    "    #this is the levels of cat variables \n",
    "    levels = data[label].cat.categories\n",
    "    print(levels)\n",
    "    PSI = 0\n",
    "    targs = data[(data[label] == levels[0])]\n",
    "    PSI = IV(targs,n_good,n_bad,levels[0],one, zero)\n",
    "    for _ in range(len(levels)):\n",
    "        targs = data[data[label] == levels[_]][[\"target_date\"]]\n",
    "        PSI += IV(targs,n_good,n_bad,levels[_],one, zero)\n",
    "    return PSI"
   ]
  },
  {
   "cell_type": "code",
   "execution_count": 8,
   "metadata": {
    "collapsed": true
   },
   "outputs": [],
   "source": [
    "def calc_all(dataset,cat_var,one, zero):\n",
    "    # последнее значение variables - target_art\n",
    "    # variables = [\"\",\"\",\"target_art\"]\n",
    "    # переменные без категориальных \n",
    "    PSI_arr = {}\n",
    "    variables = [x for x in dataset.columns.values if x not in cat_var]\n",
    "    n_good = len(dataset[dataset.target_date == one])\n",
    "    n_bad = len(dataset[dataset.target_date == zero])\n",
    "    # квантили\n",
    "    quant = [.1,.2,.3,.4,.5,.6,.7,.8,.9,1]\n",
    "    #quant = [.2,.4,.6,.8,1]S\n",
    "    # для континуальных значений \n",
    "    for _ in range(len(variables) - 2):\n",
    "        print(\"__________________________________________________\")\n",
    "        var_name = variables[_]\n",
    "        printmd(var_name)\n",
    "        emna = dataset[pd.isnull(dataset[var_name])][[var_name,\"target_date\"]]\n",
    "        data = dataset[[var_name,\"target_date\"]].dropna()\n",
    "        #data = data.rename(columns = {var_name:\"val\"})\n",
    "        IV_na = 0\n",
    "        IV_na = IV(emna,n_good,n_bad, 'NA',one, zero) \n",
    "        try:\n",
    "            PSI = psi_calc(data, var_name, quant,n_good,n_bad,one, zero\n",
    "                          ) + IV_na\n",
    "            PSI_arr.update({var_name: PSI})\n",
    "            print(\"PSI = \", PSI)\n",
    "        except:\n",
    "            printmd(\"Can't calculate PSI\",color = \"red\")\n",
    "            #printmd(\"Categorical?\",color = \"red\")\n",
    "    # отдельный цикл для категориальных переменных \n",
    "    for _ in range(len(cat_var)):\n",
    "        print(\"__________________________________________________\")\n",
    "        var_name = cat_var[_]\n",
    "        printmd(var_name)\n",
    "        emna = dataset[pd.isnull(dataset[var_name])][[var_name,\"target_date\"]]\n",
    "        data = dataset[[var_name,\"target_date\"]].dropna()\n",
    "        IV_na = 0\n",
    "        \n",
    "        IV_na = IV(emna,n_good,n_bad, 'NA',one, zero) \n",
    "        try:\n",
    "            PSI = psi_calc_cat(data, var_name,n_good,n_bad,one, zero) + IV_na\n",
    "            print(\"PSI = \", PSI)\n",
    "            PSI_arr.update({var_name: PSI})\n",
    "        except:\n",
    "            printmd(\"Can't calculate PSI\",color = \"red\")\n",
    "            #printmd(\"Promlem with categorical var\",color = \"red\")\n",
    "        #print(PSI_arr)\n",
    "    return PSI_arr\n",
    "        \n",
    "    \n",
    "    "
   ]
  },
  {
   "cell_type": "code",
   "execution_count": 22,
   "metadata": {
    "collapsed": true
   },
   "outputs": [],
   "source": [
    "# for numerical attributes\n",
    "def plot_slices(dataset,label, zero,one):\n",
    "    data = dataset[[\"target_date\",label]].dropna()\n",
    "    plt.figure(figsize= (6,6), dpi = 100)\n",
    "    sns.distplot(data[data.target_date == one][[label]], color = 'red' )\n",
    "    #sns.distplot(b, color = 'green')\n",
    "    sns.distplot(data[data.target_date == zero][[label]], color = 'blue')\n",
    "    plt.legend(['31.07.', '28.02.'],loc = 'best')\n",
    "    #sns.plt.xlim(0,500)"
   ]
  },
  {
   "cell_type": "markdown",
   "metadata": {},
   "source": [
    "On this picture you can see how data changes over the time. "
   ]
  },
  {
   "cell_type": "code",
   "execution_count": 23,
   "metadata": {},
   "outputs": [
    {
     "data": {
      "image/png": "[encoded data removed]",
      "text/plain": [
       "<matplotlib.figure.Figure at 0xc19c9b0>"
      ]
     },
     "metadata": {},
     "output_type": "display_data"
    }
   ],
   "source": [
    "plot_slices(data,\"atr1\",0,2)"
   ]
  },
  {
   "cell_type": "code",
   "execution_count": null,
   "metadata": {
    "collapsed": true
   },
   "outputs": [],
   "source": []
  }
 ],
 "metadata": {
  "kernelspec": {
   "display_name": "Python 3",
   "language": "python",
   "name": "python3"
  },
  "language_info": {
   "codemirror_mode": {
    "name": "ipython",
    "version": 3
   },
   "file_extension": ".py",
   "mimetype": "text/x-python",
   "name": "python",
   "nbconvert_exporter": "python",
   "pygments_lexer": "ipython3",
   "version": "3.6.4"
  }
 },
 "nbformat": 4,
 "nbformat_minor": 2
}
